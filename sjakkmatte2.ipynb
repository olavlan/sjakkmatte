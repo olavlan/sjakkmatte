{
 "cells": [
  {
   "cell_type": "markdown",
   "id": "30e0a176-2f10-4401-9c40-257b2a5a2061",
   "metadata": {},
   "source": [
    "# Sjakkoding med Python for elever\n",
    "\n",
    "## Lek i Python \n",
    "Under kan du leke deg med å skrive Python-kode. For å kjøre koden kan du holde inne `Shift` og trykke `Enter`."
   ]
  },
  {
   "cell_type": "code",
   "execution_count": 8,
   "id": "b6642e70-4989-4d98-bd63-357925a6e09c",
   "metadata": {},
   "outputs": [
    {
     "name": "stdout",
     "output_type": "stream",
     "text": [
      "Hei\n",
      "7\n"
     ]
    }
   ],
   "source": [
    "mintekst = \"Hei\"\n",
    "i = 7\n",
    "print(mintekst)\n",
    "print(i)"
   ]
  },
  {
   "cell_type": "markdown",
   "id": "11f850b5-f729-41d7-81cb-df739dcfd97e",
   "metadata": {},
   "source": [
    "## Kjør koden\n",
    "\n",
    "Trykk på koden under. Hold inne `Shift` og trykk enter for å kjøre koden."
   ]
  },
  {
   "cell_type": "code",
   "execution_count": 11,
   "id": "ecf6f4a0-bae6-4a2b-b1e9-ee91e5e5f692",
   "metadata": {},
   "outputs": [],
   "source": [
    "from chess import *\n",
    "from chess.svg import board as show_board\n",
    "def all_attacks(board: Board) -> SquareSet:\n",
    "    all_attacks = SquareSet([])\n",
    "    pieces = SquareSet([])\n",
    "    for i in range(63):\n",
    "        all_attacks = all_attacks.union(board.attacks(i))\n",
    "        if board.piece_at(i) is not None:\n",
    "            pieces.add(i)\n",
    "    all_attacks = all_attacks.difference(pieces)\n",
    "    return all_attacks\n",
    "\n",
    "def show_attacks(board: Board) -> None:\n",
    "    attacks = all_attacks(board)\n",
    "    number = len(attacks)\n",
    "    print(str(number) + \" av de tomme feltene angripes av brikkene! \\n\")\n",
    "    return show_board(board, squares=attacks, size=390)\n",
    "\n",
    "def all_attacks2(board: Board) -> SquareSet:\n",
    "    all_attacks = SquareSet([])\n",
    "    pieces = SquareSet([])\n",
    "    for i in range(63):\n",
    "        all_attacks = all_attacks.union(board.attacks(i))\n",
    "    return all_attacks\n",
    "\n",
    "def show_attacks2(board: Board) -> None:\n",
    "    attacks = all_attacks2(board)\n",
    "    number = len(attacks)\n",
    "    print(str(number) + \" av feltene angripes av brikkene! \\n\")\n",
    "    return show_board(board, squares=attacks, size=390)"
   ]
  },
  {
   "cell_type": "markdown",
   "id": "f54490b7-af3b-4dd4-bdcc-1b48ddac8f3b",
   "metadata": {},
   "source": [
    "## Liste over kommandoer\n",
    "\n",
    "For å drive med sjakkoding i Python bruker vi disse kommandoene.\n",
    "\n",
    "|  Kommando |  Forklaring |\n",
    "|---|---|\n",
    "|  `1 = Board(None)` | Opprett nytt tomt sjakkbrett  |\n",
    "| `1 = Board(\"2\")`  |  Opprett sjakkbrett fra FEN-kode |\n",
    "|  `1.set_piece_at(3, 4)` |  På brett 1: sett brikke 4 på felt 3 |\n",
    "| `show_attacks(1)` | På brett 1: vis feltene som angripes | \n",
    "| `show_attacks(1)` | På brett 1: vis feltene og brikkene som angripes | \n",
    "|`1.piece_type_at(3)`|På brett 1: spør om hvilken brikke som står på felt 3|\n",
    "|`1.color_at(3)`|På brett 1: spør om hvilken farge det er på brikken på felt 3 | \n",
    "\n",
    "Du kan kopiere disse kommandoene, men istedenfor tallene 1-4 skal du skrive følgende:\n",
    "\n",
    "1. Et variabelnavn for sjakkbrettet\n",
    "2. FEN-kode\n",
    "3. Felt: `A1`, `A2`, ..., `H8`, eller skriv tall mellom `0` og `63` (se nummerering under)\n",
    "4. Brikketype: `PNBRQK`, `pnbrqk`, `None` for å fjerne brikke\n",
    "\n",
    "___\n",
    "\n",
    "Nummerering av sjakkbrett:\n",
    "\n",
    "___\n",
    "\n",
    "Disse tabellene viser hva svaret på kommandoene `piece_type_at()` og `color_at()` betyr:\n",
    "\n",
    "| `piece_type_at()` | Brikke  |\n",
    "|---|---|\n",
    "|  `None` | Tomt felt  |\n",
    "|  `1` |  Bonde |\n",
    "|  `2` |  Hest  |\n",
    "|  `3` |  Løper  |\n",
    "|  `4` |  Tårn  |\n",
    "|  `5` |  Dronning  |\n",
    "|  `6` |  Konge  |\n",
    "\n",
    "\n",
    "| `color_at()` | Farge på brikke  |\n",
    "|---|---|\n",
    "|  `None` | Tomt felt  |\n",
    "|  `True` |  Hvit |\n",
    "|  `False` |  Svart  |\n",
    "\n",
    "\n",
    "\n"
   ]
  }
 ],
 "metadata": {
  "kernelspec": {
   "display_name": "Python 3 (ipykernel)",
   "language": "python",
   "name": "python3"
  },
  "language_info": {
   "codemirror_mode": {
    "name": "ipython",
    "version": 3
   },
   "file_extension": ".py",
   "mimetype": "text/x-python",
   "name": "python",
   "nbconvert_exporter": "python",
   "pygments_lexer": "ipython3",
   "version": "3.9.8"
  }
 },
 "nbformat": 4,
 "nbformat_minor": 5
}
