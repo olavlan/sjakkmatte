{
 "cells": [
  {
   "cell_type": "markdown",
   "id": "30e0a176-2f10-4401-9c40-257b2a5a2061",
   "metadata": {},
   "source": [
    "# Sjakk og programmering for elever\n",
    "\n",
    "## Lek i Python \n",
    "Under kan du leke deg med å skrive Python-kode. For å kjøre koden kan du holde inne `Shift` og trykke `Enter`."
   ]
  },
  {
   "cell_type": "code",
   "execution_count": null,
   "id": "b6642e70-4989-4d98-bd63-357925a6e09c",
   "metadata": {},
   "outputs": [],
   "source": [
    "mintekst = \"Hei\"\n",
    "i = 7\n",
    "print(mintekst)\n",
    "print(i)"
   ]
  },
  {
   "cell_type": "markdown",
   "id": "cb06c617-8e16-4502-8a1c-4d14d79c68b6",
   "metadata": {
    "tags": []
   },
   "source": [
    "## Sjakkoding\n",
    "\n",
    "Dette forklares av lærer.\n",
    "\n",
    "### Kommandoer\n",
    "\n",
    "|  Kommando |  Forklaring |\n",
    "|---|---|\n",
    "|  `1 = Board(None)` | Opprett nytt tomt sjakkbrett  |\n",
    "| `1 = Board(\"2\")`  |  Opprett sjakkbrett fra FEN-kode |\n",
    "|  `1.set_piece_at(3, 4)` |  På brett 1: sett brikke 4 på felt 3 |\n",
    "| `show_attacks(1)` | På brett 1: vis feltene som angripes | \n",
    "| `show_attacks(1)` | På brett 1: vis feltene og brikkene som angripes | \n",
    "|`1.piece_type_at(3)`|På brett 1: spør om hvilken brikke som står på felt 3|\n",
    "|`1.color_at(3)`|På brett 1: spør om hvilken farge det er på brikken på felt 3 | \n",
    "\n",
    "Istedenfor tallene 1-4 skal du skrive følgende:\n",
    "\n",
    "1. Et variabelnavn for sjakkbrettet\n",
    "2. FEN-kode: eksempelet `P6P/P6P/P6P/P6P/P6P/P6P/P6P/P6P` plasserer hvite bønder på venstre og høyre kant\n",
    "3. Felt: `A1`, `A2`, ..., `H8`, eller skriv tall mellom `0` og `63`\n",
    "4. Brikketype: `PNBRQK` for hvite brikker, `pnbrqk` for svarte brikker, `None` for å fjerne brikke \n",
    "\n",
    "* P = Pawn = Bonde\n",
    "* N = kNight = Hest\n",
    "* B = Bishop = Løper\n",
    "* R = Rook = Tårn\n",
    "* Q = Queen = Dronning\n",
    "* K = King = Konge\n",
    "\n",
    "<img src=\"sjakkbrett.png\" width=\"300\"/>\n",
    "\n",
    "Hva svaret på kommandoene `piece_type_at()` og `color_at()` betyr:\n",
    "\n",
    "| `piece_type_at()` | Brikke  |\n",
    "|---|---|\n",
    "|  `None` | Tomt felt  |\n",
    "|  `1` |  Bonde |\n",
    "|  `2` |  Hest  |\n",
    "|  `3` |  Løper  |\n",
    "|  `4` |  Tårn  |\n",
    "|  `5` |  Dronning  |\n",
    "|  `6` |  Konge  |\n",
    "\n",
    "\n",
    "| `color_at()` | Farge på brikke  |\n",
    "|---|---|\n",
    "|  `None` | Tomt felt  |\n",
    "|  `True` |  Hvit |\n",
    "|  `False` |  Svart  |\n",
    "\n",
    "### Denne koden skal kjøres, men ikke endres"
   ]
  },
  {
   "cell_type": "code",
   "execution_count": null,
   "id": "769810f7-f50a-4961-bfda-3ff0614d46e4",
   "metadata": {},
   "outputs": [],
   "source": [
    "from chess import *\n",
    "\n",
    "P = Piece(1, 1)\n",
    "N = Piece(2, 1)\n",
    "B = Piece(3, 1)\n",
    "R = Piece(4, 1)\n",
    "Q = Piece(5, 1)\n",
    "K = Piece(6, 1)\n",
    "\n",
    "p = Piece(1, 0)\n",
    "n = Piece(2, 0)\n",
    "b = Piece(3, 0)\n",
    "r = Piece(4, 0)\n",
    "q = Piece(5, 0)\n",
    "k = Piece(6, 0)\n",
    "\n",
    "from chess.svg import board as show_board\n",
    "\n",
    "def all_attacks(board):\n",
    "    all_attacks = SquareSet([])\n",
    "    pieces = SquareSet([])\n",
    "    for i in range(64):\n",
    "        all_attacks = all_attacks.union(board.attacks(i))\n",
    "        if board.piece_at(i) is not None:\n",
    "            pieces.add(i)\n",
    "    all_attacks = all_attacks.difference(pieces)\n",
    "    return all_attacks, pieces\n",
    "\n",
    "def show_attacks(board):\n",
    "    attacks, pieces = all_attacks(board)\n",
    "    print(len(pieces), \"brikker på brettet,\", len(attacks),  \"tomme felter angripes! \\n\")\n",
    "    return show_board(board, squares=attacks, size=390)\n",
    "\n",
    "def all_attacks2(board):\n",
    "    all_attacks = SquareSet([])\n",
    "    pieces = SquareSet([])\n",
    "    for i in range(64):\n",
    "        all_attacks = all_attacks.union(board.attacks(i))\n",
    "        if board.piece_at(i) is not None:\n",
    "            pieces.add(i)\n",
    "    attacked_pieces = all_attacks.intersection(pieces)\n",
    "    return all_attacks, attacked_pieces\n",
    "\n",
    "def show_attacks2(board):\n",
    "    attacks, attacked_pieces = all_attacks2(board)\n",
    "    num = len(attacked_pieces)\n",
    "    if num == 0:\n",
    "        print(\"Ingen av brikkene angriper hverandre! Kan du legge til flere fredelige brikker? \\n\")\n",
    "    else: \n",
    "        print(num, \"brikker er under angrep! Flytt brikkene slik at de blir fredelige! \\n\")\n",
    "    return show_board(board, squares=attacks, size=390)"
   ]
  },
  {
   "cell_type": "markdown",
   "id": "03e7aad7-54fd-4fec-9b65-b6b9538d1545",
   "metadata": {
    "tags": []
   },
   "source": [
    "## Oppgaver \n",
    "### Angrepsstyrke \n",
    "\n",
    "Gjennom noen morsomme oppgaver skal du utforske hvordan de ulike sjakkbrikkene angriper feltene rundt seg.\n",
    "\n",
    "#### En av hver brikke, størst dominans\n",
    "\n",
    "Kjør koden under, og endre på brikkenes plasseringer slik at de angriper **flest** mulig felter på brettet. Husk at hvit bonde kun angriper på skrå fremover."
   ]
  },
  {
   "cell_type": "code",
   "execution_count": null,
   "id": "ba59c889-dad2-491c-ba1c-caff257b863e",
   "metadata": {
    "tags": []
   },
   "outputs": [],
   "source": [
    "brettG = Board(None)\n",
    "brettG.set_piece_at(A1, P)\n",
    "brettG.set_piece_at(B1, N)\n",
    "brettG.set_piece_at(C1, B)\n",
    "brettG.set_piece_at(D1, R)\n",
    "brettG.set_piece_at(E1, Q)\n",
    "brettG.set_piece_at(F1, K)\n",
    "show_attacks(brettG)"
   ]
  },
  {
   "cell_type": "markdown",
   "id": "03866438-356d-4b43-9785-81b064278661",
   "metadata": {},
   "source": [
    "#### En av hver brikke, minst dominans \n",
    "\n",
    "Kjør koden under, og endre på brikkenes plasseringer slik at de angriper **færrest** mulig felter på brettet.  "
   ]
  },
  {
   "cell_type": "code",
   "execution_count": null,
   "id": "0bb084f0-4997-49e9-a358-c89785fc3fb1",
   "metadata": {},
   "outputs": [],
   "source": [
    "brettH = Board(None)\n",
    "brettH.set_piece_at(A1, P)\n",
    "brettH.set_piece_at(B1, N)\n",
    "brettH.set_piece_at(C1, B)\n",
    "brettH.set_piece_at(D1, R)\n",
    "brettH.set_piece_at(E1, Q)\n",
    "brettH.set_piece_at(F1, K)\n",
    "show_attacks(brettH)"
   ]
  },
  {
   "cell_type": "markdown",
   "id": "c81eb14d-8212-43d7-ad41-180b9c29faed",
   "metadata": {},
   "source": [
    "#### Dominere brettet med færrest dronninger\n",
    "\n",
    "Kjør koden under. Legg på en ny dronning ved å kopiere linje 2 - husk å endre `E4` til et annet felt.\n",
    "\n",
    "Legg på flere dronninger og forsøk å dominere hele brettet med så få dronninger som mulig. Hva er det minste antallet dronninger som trengs? (Å dominere hele brettet vil si at ethvert felt enten er okkupert eller under angrep av en brikke.) "
   ]
  },
  {
   "cell_type": "code",
   "execution_count": null,
   "id": "f8568599-0c41-4beb-b084-05f6a4ecf621",
   "metadata": {},
   "outputs": [],
   "source": [
    "brettI = Board(None)\n",
    "brettI.set_piece_at(E4, Q)\n",
    "show_attacks(brettI)"
   ]
  },
  {
   "cell_type": "markdown",
   "id": "f222b2c8-5cb3-4c16-820e-cbf0cc6e3e76",
   "metadata": {},
   "source": [
    "#### Dominere brettet med færrest hester\n",
    "\n",
    "Kjør koden under, og legg til flere hester. Forsøk å dominere hele brettet med så få hester som mulig."
   ]
  },
  {
   "cell_type": "code",
   "execution_count": null,
   "id": "40001551-ddef-4fd7-8bda-09e5b5769489",
   "metadata": {},
   "outputs": [],
   "source": [
    "brettJ = Board(None)\n",
    "brettJ.set_piece_at(C6, N)\n",
    "show_attacks(brettJ)"
   ]
  },
  {
   "cell_type": "markdown",
   "id": "126ae091-12ab-4872-90e3-e0b9583083b6",
   "metadata": {},
   "source": [
    "#### Flest fredelige dronninger\n",
    "\n",
    "Kjør koden under og legg merke til at de to dronningene angriper hverandre, markert med et kryss oppå dronningene. \n",
    "Endre plasseringen slik at de ikke angriper hverandre. \n",
    "Legg deretter på så mange fredelige dronninger som du klarer. (Brikker som ikke angriper hverandre er \"fredelige brikker\".)"
   ]
  },
  {
   "cell_type": "code",
   "execution_count": null,
   "id": "e68cd67c-9ace-43c8-ad0d-ac62e02ff5c7",
   "metadata": {},
   "outputs": [],
   "source": [
    "brettK = Board(None)\n",
    "brettK.set_piece_at(A1, Q)\n",
    "brettK.set_piece_at(G7, Q)\n",
    "show_attacks2(brettK)"
   ]
  },
  {
   "cell_type": "markdown",
   "id": "be00b39a-e44b-43ce-bd40-2cf2061eceff",
   "metadata": {},
   "source": [
    "#### Flest fredelige løpere\n",
    "\n",
    "Hvor mange løpere klarer du å legge på brettet uten at noen angriper hverandre?\n",
    "Kjør koden under og legg på flere løpere!"
   ]
  },
  {
   "cell_type": "code",
   "execution_count": null,
   "id": "5a38c2a1-c16e-43d5-999e-d66d194039aa",
   "metadata": {},
   "outputs": [],
   "source": [
    "brettL = Board(None)\n",
    "brettL.set_piece_at(A1, B)\n",
    "show_attacks2(brettL)"
   ]
  },
  {
   "cell_type": "markdown",
   "id": "c29fa458-20a1-4fdf-8d60-4055c6a8cc40",
   "metadata": {},
   "source": [
    "#### Oppsummering\n",
    "\n",
    "Skriv opp tabellene under på papir, og fyll ut tall. Læreren forteller deg om du har riktige svar og hvor nærme du er. \n",
    "Husk å lese hva Min og Max betyr i de to tabellene. \n",
    "De oppgavene du har jobbet med ovenfor er markert med X.\n",
    "Det er en ekstra kodeblokk under tabellene som du kan bruke som hjelp til resten av tabellen.\n",
    "\n",
    "**Tabell 1**\n",
    "\n",
    "* Min = færrest antall felter som kan angripes av brikkekombinasjonen\n",
    "* Max = flest antall felter som kan angripes av brikkekombinasjonen\n",
    "\n",
    "| Brikkekombinasjon  | Min  | Max  |\n",
    "|---|---|---|\n",
    "|  En av hver type |  X | X  |\n",
    "|  Andre kombinasjoner? |   |   |\n",
    "\n",
    "**Tabell 2**\n",
    "\n",
    "* Min = færrest antall brikker som kan dominere hele brettet\n",
    "* Max = flest antall fredelige brikker som kan plasseres på brettet\n",
    "\n",
    "| Brikketype  | Min  | Max  |\n",
    "|---|---|---|\n",
    "|  Hester |  X |   |\n",
    "|  Løpere |   | X  |\n",
    "|  Tårn |   |   |\n",
    "| Dronnninger  | X  | X  |\n",
    "| Konger  |   |   |\n",
    "\n",
    "**Kodeblokk til hjelp**\n",
    "\n",
    "Du kan velge hvordan du vil ha kryssene ved å endre på nederste linje:\n",
    "* `show_attacks()` setter bare kryss på tomme felter under angrep\n",
    "* `show_attacks2()` setter også kryss på brikker under angrep"
   ]
  },
  {
   "cell_type": "code",
   "execution_count": null,
   "id": "9fdae9d4-ddf5-42a1-8a8d-17b08a05afb6",
   "metadata": {},
   "outputs": [],
   "source": [
    "brettM = Board(None)\n",
    "brettM.set_piece_at(A1, R)\n",
    "show_attacks(brettM) "
   ]
  },
  {
   "cell_type": "markdown",
   "id": "d6cbc427-eda4-444d-94c6-3add41088fb9",
   "metadata": {},
   "source": [
    "### Kode en sjakkcomputer\n",
    "\n",
    "Du har kanskje sett \"pila\" i sjakksendingene på NRK. Den vurderer stillingen på brettet og gir en poengsum. Den kan for eksempel vise 1.0 til hvit. Vi skriver dette som +1.0. Hvis det er 1.0 til svart, skriver vi -1.0. Det er kompliserte beregninger som ligger bak poengsummen. Vi skal lage en sjakkcomputer som gjør en enklere beregning, nemlig å telle verdiene til brikkene, for hvit og for svart. Hvis hvit leder med en bonde, skal programmet vårt skrive ut +1. "
   ]
  },
  {
   "cell_type": "markdown",
   "id": "c5cf1f6e-aba5-4605-ab00-d64e4810a143",
   "metadata": {},
   "source": [
    "#### Regne poengsum for hånd\n",
    "\n",
    "For å lære å telle poengsummen på brettet, skal vi se på en stilling fra et av Magnus Carlsens nylige partier. Kjør koden:"
   ]
  },
  {
   "cell_type": "code",
   "execution_count": null,
   "id": "d6d6cf0c-03c4-4f8c-8451-ecfb629df6e4",
   "metadata": {},
   "outputs": [],
   "source": [
    "carlsen_giri = Board(\"2r5/1R5p/p3npk1/8/P7/4B1P1/4PP1P/5K2\")\n",
    "carlsen_giri"
   ]
  },
  {
   "cell_type": "markdown",
   "id": "9ce754ed-b38a-41ca-ab4b-aa542669a0f6",
   "metadata": {
    "tags": []
   },
   "source": [
    "Verdien av de ulike brikkene er\n",
    "\n",
    "| Brikke  | Poeng |\n",
    "|---|---|\n",
    "|  Bonde | 1 |\n",
    " |  Hest  |3 |\n",
    "|  Løper  |3|\n",
    " |  Tårn  |5|\n",
    "|  Dronning  |9|\n",
    "|  Konge  |Telles ikke|\n",
    "\n",
    "Nå kan vi begynne å telle poengene på brettet ovenfor:\n",
    "\n",
    "Hvits poeng = 5x Bonde + 1x Tårn + 1x Løper = 5 + 5 + 3 = 13\n",
    "\n",
    "Svarts poeng = 3x Bonde + 1x Tårn + 1x Hest = 3 + 5 + 3 = 11\n",
    "\n",
    "Poengsum = Hvits poeng - Svarts poeng = 13 - 11 = +2\n",
    "\n",
    "Poengsummen er altså +2, som betyr at hvit leder med 2 poeng. Nå er vi klare for å lage en enkel sjakkcomputer!\n",
    "\n",
    "#### Skrive kode som regner ut poengsummen\n",
    "\n",
    "Nå skal du lage en funksjon som gjør alt arbeidet med å regne ut poengsummen på sjakkbrettet!\n",
    "Dette er en veldig utfordrende oppgave som du må få hjelp av læreren din til å komme i gang med. "
   ]
  },
  {
   "cell_type": "code",
   "execution_count": null,
   "id": "08fe6faf-605e-4960-b586-9d2d28cb46a7",
   "metadata": {
    "tags": []
   },
   "outputs": [],
   "source": [
    "def evaluation(brett):\n",
    "    poeng = 0\n",
    "    \n",
    "    #skriv kode her:\n",
    "    \n",
    "    \n",
    "    \n",
    "    \n",
    "    \n",
    "    return poeng\n",
    "\n",
    "evaluation(carlsen_giri) #test"
   ]
  },
  {
   "cell_type": "markdown",
   "id": "8e1733a4-40b8-4980-b492-35a76238b812",
   "metadata": {},
   "source": [
    "Nå skal du lage en funksjon som skriver ut en melding om hvem som leder! Funksjonen skal skrive ut en av disse meldingene:\n",
    "\n",
    "* Pila står på x poeng til hvit\n",
    "* Pila står på x poeng til svart\n",
    "* Pila står på null - uavgjort.\n",
    "\n",
    "Du må sørge for at riktig melding blir skrevet ut, og at x erstattes med riktig tall. Spør læreren din om hjelp!"
   ]
  },
  {
   "cell_type": "code",
   "execution_count": null,
   "id": "7e42d4fc-7b73-4d04-bf31-0c9bb9224e0f",
   "metadata": {},
   "outputs": [],
   "source": [
    "def print_evaluation(brett): \n",
    "    \n",
    "    #skriv kode her:\n",
    "    \n",
    "    \n",
    "    \n",
    "    \n",
    "    \n",
    "    return None\n",
    "\n",
    "print_evaluation(carlsen_giri) #test"
   ]
  },
  {
   "cell_type": "markdown",
   "id": "95b9213e-d6ff-4844-91f7-70fcd8862fb3",
   "metadata": {},
   "source": [
    "Under har vi gitt noen stillinger som du kan teste sjakkcomputeren din på. Du trenger bare å kjøre kodeblokkene."
   ]
  },
  {
   "cell_type": "code",
   "execution_count": null,
   "id": "c9c23c7e-b950-451d-a07e-a217f0238a0e",
   "metadata": {},
   "outputs": [],
   "source": [
    "startoppstilling = Board(\"rnbqkbnr/pppppppp/8/8/8/8/PPPPPPPP/RNBQKBNR\")\n",
    "print_evaluation(startoppstilling)\n",
    "startoppstilling"
   ]
  },
  {
   "cell_type": "code",
   "execution_count": null,
   "id": "c758168e-bd07-41b8-bc3f-afca59b9b8a9",
   "metadata": {},
   "outputs": [],
   "source": [
    "anand_carlsen = Board(\"2bqnrk1/5p1p/5PpQ/3pP1P1/2pP1R2/2P5/6BP/4qNK1\")\n",
    "print_evaluation(anand_carlsen)\n",
    "anand_carlsen"
   ]
  },
  {
   "cell_type": "code",
   "execution_count": null,
   "id": "4ee4e0ff-5efd-400f-a7a2-4f16abd5f468",
   "metadata": {},
   "outputs": [],
   "source": [
    "carlsen_anand = Board(\"r4b2/2p2p2/2k1bNnp/p2NP1p1/PpP1K1P1/7P/5P2/3RR3\")\n",
    "print_evaluation(carlsen_anand)\n",
    "carlsen_anand"
   ]
  },
  {
   "cell_type": "code",
   "execution_count": null,
   "id": "d0206280-9da0-4483-84f4-e9ef3e3881f8",
   "metadata": {},
   "outputs": [],
   "source": [
    "carlsen_karjakin = Board(\"6k1/4bpp1/1p1p4/5R1P/4PQ2/5P2/r4q1P/2R4K\")\n",
    "print_evaluation(carlsen_karjakin)\n",
    "carlsen_karjakin"
   ]
  },
  {
   "cell_type": "code",
   "execution_count": null,
   "id": "17158158-af33-4b6a-a269-d8c76a5c794d",
   "metadata": {},
   "outputs": [],
   "source": [
    "caruana_carlsen = Board(\"5k2/8/5pK1/5PbP/2Bn4/8/8/8\")\n",
    "print_evaluation(caruana_carlsen)\n",
    "caruana_carlsen"
   ]
  },
  {
   "cell_type": "code",
   "execution_count": null,
   "id": "1907a466-8dad-4b0f-8418-6e78a37e8d32",
   "metadata": {},
   "outputs": [],
   "source": [
    "carlsen_nepo = Board(\"4k3/8/7q/4PR1N/5P1K/8/8/8\")\n",
    "print_evaluation(carlsen_nepo)\n",
    "carlsen_nepo"
   ]
  }
 ],
 "metadata": {
  "kernelspec": {
   "display_name": "Python 3 (ipykernel)",
   "language": "python",
   "name": "python3"
  },
  "language_info": {
   "codemirror_mode": {
    "name": "ipython",
    "version": 3
   },
   "file_extension": ".py",
   "mimetype": "text/x-python",
   "name": "python",
   "nbconvert_exporter": "python",
   "pygments_lexer": "ipython3",
   "version": "3.10.12"
  }
 },
 "nbformat": 4,
 "nbformat_minor": 5
}
