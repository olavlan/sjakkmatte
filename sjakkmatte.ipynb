{
 "cells": [
  {
   "cell_type": "markdown",
   "id": "4e1456fa-8402-4f89-b873-28d80bbac58c",
   "metadata": {},
   "source": [
    "# Sjakkmatte\n",
    "\n",
    "Innholdet finnes her: https://github.com/olavlan/sjakkmatte#readme\n",
    "\n",
    "Oppsummering: \n",
    "- Sjakkmatte-hefte: Jeg begynte å skrive oppgaver i dette heftet, men fikk idéer til større aktiviteter som passet bedre i eget hefte eller på interaktiv plattform.\n",
    "- Sjakkmatte i Python: Jeg har forstått at programmering har kommet inn i læreplanen på flere trinn.\n",
    "- Sannsynlighet: Heftet her er veldig uferdig og bør skrives bedre. Hovedproblemet (Trygg kongevei) må presenteres på en mer forståelig måte. Kanskje bør alt plasseres i det interaktive dokumentet. "
   ]
  },
  {
   "cell_type": "code",
   "execution_count": null,
   "id": "03abacd9-f413-4f63-8bbb-83f2ed47edca",
   "metadata": {},
   "outputs": [],
   "source": []
  }
 ],
 "metadata": {
  "kernelspec": {
   "display_name": "Python 3 (ipykernel)",
   "language": "python",
   "name": "python3"
  },
  "language_info": {
   "codemirror_mode": {
    "name": "ipython",
    "version": 3
   },
   "file_extension": ".py",
   "mimetype": "text/x-python",
   "name": "python",
   "nbconvert_exporter": "python",
   "pygments_lexer": "ipython3",
   "version": "3.10.12"
  }
 },
 "nbformat": 4,
 "nbformat_minor": 5
}
