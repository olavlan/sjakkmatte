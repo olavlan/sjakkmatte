{
 "cells": [
  {
   "cell_type": "markdown",
   "id": "5e5c28f8",
   "metadata": {},
   "source": [
    "# Sjakkmatte med Python\n",
    "\n",
    "Målet med dette kurset er å gi undervisningsopplegg med sjakk, koding og matte som tema.\n",
    "Du vil her finne blokker av Python-kode, for eksempel: "
   ]
  },
  {
   "cell_type": "code",
   "execution_count": null,
   "id": "138cb339-60fd-4acd-a53b-06162e4916c7",
   "metadata": {},
   "outputs": [],
   "source": [
    "test = 0\n",
    "for i in range(10):\n",
    "    test = test + 1 \n",
    "print(test)"
   ]
  },
  {
   "cell_type": "markdown",
   "id": "91fd46d3-b4c8-46f6-a9be-ffabd5ec2332",
   "metadata": {},
   "source": [
    "Forsøk å klikke på kodeblokken og deretter trykke `Shift` + `Enter` på tastaturet.\n",
    "Da kjøres koden, og resultatet skrives ut rett under. \n",
    "Forsøk videre å klikke deg inn i koden, gjøre endringer og kjøre koden på nytt. \n",
    "\n",
    "Dette dokumentet er altså en blanding av tekst og kodeblokker, som både kan endres og kjøres. \n",
    "Senere vil du finne tomme kodeblokker der du kan forsøke å løse oppgavene. \n",
    "Det anbefales at elevene også bruker den samme plattformen, ved å bruke elevversjonen av dette dokumentet, som finnes på [bit.ly/sjakkmatte](bit.ly/sjakkmatte).\n",
    "\n",
    "Du kan ignorere mesteparten av knappene i plattformen, men følgende er greit å kjenne til: \n",
    "* Du kan endre både kode og tekst i dette dokumentet, men når du lukker nettleseren og laster inn siden på nytt, så kommer du tilbake til originalversjonen. \n",
    "* Dersom du ønsker å ta vare på all koden du har skrevet i dokumentet, bruker du menyvalget `File` -> `Download` og lagrer filen på din datamaskin. Når du laster inn denne siden neste gang, åpner du filen ved å trykke du på mappesymbolet (det øverste av de fire symbolene helt til venstre), deretter opplastingsknappen (pil oppover med horisontal strek under). \n",
    "* Hvis du har klikket deg inn i teksten, bruk `Shift` + `Enter` for å komme tilbake til lesemodus. \n",
    "* Bruk `Ctrl/Cmd` + `Z` for å angre endringer.  \n",
    "* Helt til venstre er også en knapp med tre horisontale streker. Klikk på denne for å se innholdsfortegnelsen, som er nyttig for å navigere i dokumentet."
   ]
  },
  {
   "cell_type": "markdown",
   "id": "297c2377-e2a6-4dd4-a20d-c7501f9e26aa",
   "metadata": {},
   "source": [
    "## Innføring\n",
    "Vi begynner med en innføring i å definere sjakkbrett og brikker i Python. Seksjoner med overskriften *Ekstra* er ikke en nødvendig del av kurset, men gir ytterligere forklaringer til koden. \n",
    "### Sjakkbrett\n",
    "For å kunne begynne med sjakkoding, trenger vi en måte å lagre sjakkbrettet og brikkenes plasseringer i datamaskinens minne. Utvidelsen [python-chess](https://python-chess.readthedocs.io/en/latest/) tar seg av detaljene for oss, så alt vi trenger å lære er noen få kommandoer. Dette gjør at vi raskt kan begynne med de logiske og kreative delene av oppgavene. \n",
    "\n",
    "Kjør følgende kode med `Shift`+ `Enter`: "
   ]
  },
  {
   "cell_type": "code",
   "execution_count": null,
   "id": "49d6d726",
   "metadata": {},
   "outputs": [],
   "source": [
    "from chess import *\n",
    "brett = Board(None) \n",
    "brett"
   ]
  },
  {
   "cell_type": "markdown",
   "id": "d0b81783-9e65-4536-9427-2c9654bffc3c",
   "metadata": {},
   "source": [
    "De tre kodelinjene gjør følgende: \n",
    "\n",
    "1. Vi importerer den nevnte utvidelsen, slik at vi kan ta i bruk kommandoene. \n",
    "2. Vi definerer variabelen `brett`. Ved å bruke kommandoen `Board(None)` sier vi at `brett` skal inneholde et tomt sjakkbrett. \n",
    "3. Vi skriver til slutt `brett` på en egen linje, som gjør at sjakkbrettet vises når vi kjører programmet. "
   ]
  },
  {
   "cell_type": "markdown",
   "id": "aabf54a1-0d6b-4a8b-a097-1f139d7c9638",
   "metadata": {
    "jp-MarkdownHeadingCollapsed": true,
    "tags": []
   },
   "source": [
    "### Ekstra\n",
    "\n",
    "Du er kanksje vant til at en variabel inneholder et tall, en liste eller en tekststreng. Men en variabel kan også inneholde mer kompliserte strukturer, i dette tilfellet et sjakkbrett. Nøyaktig hvordan sjakkbrettet lagres i datamaskinens minne bestemmes av utvidelsen. Hvis vi skulle gjort alt selv, kunne vi for eksempel gjort følgende:\n",
    "\n",
    "* Definere et sjakkbrett som en liste av 64 tall. \n",
    "* De 8 første tallene i listen er feltene a1-a8, de neste 8 tallene er feltene b1-b8, og så videre. \n",
    "* Hvis tallet er 0, så betyr det at feltet er tomt, mens 1 betyr konge, 2 betyr bonde, og så videre.\n",
    "____\n",
    "\n",
    "Mer om kommandoen `Board(None)`:\n",
    "`None` er et nøkkelord i Python på samme måte som `for` og `if`. Hvis vi skriver `test=None`, betyr det at vi oppretter variabelen `test` uten noe innhold. Vi sier da at `test` er en \"tom variabel\". I kommandoen `Board(None)` brukes `None` for å angi at brettet skal være tomt."
   ]
  },
  {
   "cell_type": "markdown",
   "id": "55e012b2-0fd3-49ee-aa17-1ad5edba22b6",
   "metadata": {},
   "source": [
    "### Brikker \n",
    "For å unngå forvirring senere er det nyttig å lære de internasjonale symbolene for sjakkbrikkene. \n",
    "\n",
    "* P = Pawn = Bonde\n",
    "* N = kNight = Hest\n",
    "* B = Bishop = Løper\n",
    "* R = Rook = Tårn\n",
    "* Q = Queen = Dronning\n",
    "* K = King = Konge\n",
    "\n",
    "Kjør følgende kode:"
   ]
  },
  {
   "cell_type": "code",
   "execution_count": null,
   "id": "35263a32",
   "metadata": {},
   "outputs": [],
   "source": [
    "P = Piece(1, 1)\n",
    "N = Piece(2, 1)\n",
    "B = Piece(3, 1)\n",
    "R = Piece(4, 1)\n",
    "Q = Piece(5, 1)\n",
    "K = Piece(6, 1)\n",
    "\n",
    "p = Piece(1, 0)\n",
    "n = Piece(2, 0)\n",
    "b = Piece(3, 0)\n",
    "r = Piece(4, 0)\n",
    "q = Piece(5, 0)\n",
    "k = Piece(6, 0)"
   ]
  },
  {
   "cell_type": "markdown",
   "id": "0d14a5d5-da6c-456a-8384-1e5c87996c8f",
   "metadata": {},
   "source": [
    "Her har vi brukt kommandoer til å definere variabler til alle brikketypene. \n",
    "Vi bruker store bokstaver for hvite brikker, og små bokstaver for svarte brikker, slik at `P` er hvit bonde og `p` er svart bonde. \n",
    "Husk å ikke bruke disse variabelnavnene igjen senere - da vil variablene overskrives.\n",
    "\n",
    "Kjør følgende kode:"
   ]
  },
  {
   "cell_type": "code",
   "execution_count": null,
   "id": "415c2476",
   "metadata": {},
   "outputs": [],
   "source": [
    "brett.set_piece_at(E4, R)\n",
    "brett.set_piece_at(H8, k)\n",
    "brett"
   ]
  },
  {
   "cell_type": "markdown",
   "id": "20ae9a9c-d78d-43f0-8570-3f232571998c",
   "metadata": {},
   "source": [
    "Vi har altså brukt kommondoen `brett.set_piece_at(E4,R)` for å sette et hvitt tårn på feltet e4, og tilsvarende kommando for å sette en svart konge på h8.\n",
    "\n",
    "* Det er viktig å skrive `brett` og punktum først, ettersom vi kan ha flere variabler med sjakkbrett, og vi må spesifisere hvilken av disse vi skal plassere nye brikker på. \n",
    "* I parentesen skriver vi ønsket felt og brikketype, i denne rekkefølgen og separert av komma. Feltet må skrives med stor bokstav - `E4` og `H8` (dette er variabler som følger med utvidelsen, mens brikkevariablene definerte vi selv ovenfor).\n",
    "\n",
    "Vi kan erstatte tårnet med en hest ved å bruke den samme kommandoen. Vi fjerner kongen ved å bruke den samme kommandoen, men skrive `None` i stedet for brikketype. "
   ]
  },
  {
   "cell_type": "code",
   "execution_count": null,
   "id": "74ccec67",
   "metadata": {},
   "outputs": [],
   "source": [
    "brett.set_piece_at(E4,N)\n",
    "brett.set_piece_at(H8,None)\n",
    "brett"
   ]
  },
  {
   "cell_type": "markdown",
   "id": "6d60c11e",
   "metadata": {},
   "source": [
    "For å fjerne alle brikkene på brettet skriver vi bare `brett = Board(None)` på nytt - altså sier vi at `brett` skal inneholde et nytt, tomt sjakbrett.\n",
    "\n",
    "### Oppsett av stilling med FEN\n",
    "\n",
    "Metoden ovenfor kan bli langtekkelig når vi fylle sjakkbrettet med mange brikker. \n",
    "Derfor skal vi også vise [FEN-kode](https://en.wikipedia.org/wiki/Forsyth%E2%80%93Edwards_Notation) for å angi en stilling på sjakkbrettet. Dette er den standardiserte notasjonen som brukes i sjakkverdenen. \n",
    "\n",
    "Anta at vi ønsker å sette hvite bønder på alle feltene på brettet (det spiller ingen rolle at dette er en ulovlig sjakkstilling). Denne stillingen defineres med følgende FEN-kode: \n",
    "\n",
    "`PPPPPPPP/PPPPPPPP/PPPPPPPP/PPPPPPPP/PPPPPPPP/PPPPPPPP/PPPPPPPP/PPPPPPPP`\n",
    "\n",
    "Koden definerer brikkene i de ulike radene, separert av skråstrek. Et viktig poeng er at vi starter med den øverste raden (rad 8) og går deretter nedover på brettet.\n",
    "\n",
    "Kjør nå følgende kode:"
   ]
  },
  {
   "cell_type": "code",
   "execution_count": null,
   "id": "854253eb",
   "metadata": {},
   "outputs": [],
   "source": [
    "brettA = Board(\"PPPPPPPP/PPPPPPPP/PPPPPPPP/PPPPPPPP/PPPPPPPP/PPPPPPPP/PPPPPPPP/PPPPPPPP\")\n",
    "brettA"
   ]
  },
  {
   "cell_type": "markdown",
   "id": "1acebbf6-b451-4fcc-9963-d6ae5cef87f6",
   "metadata": {},
   "source": [
    "I kommandoen `Board(None)` har vi nå erstattet `None` med FEN-koden. Det er viktig å ha anførselstegn rundt FEN-koden (fordi dette skal tolkes som en tekststreng). \n",
    "\n",
    "La oss nå definere et sjakkbrett som har hvit bonde på alle de svarte feltene. FEN-koden for dette er:\n",
    "\n",
    "`1P1P1P1P/P1P1P1P1/1P1P1P1P/P1P1P1P1/1P1P1P1P/P1P1P1P1/1P1P1P1P/P1P1P1P1`\n",
    "\n",
    "Ved å skrive tallet 1 sier vi at vi skal hoppe over et felt før vi plasserer den neste bonden. For eksempel sier det aller første 1-tallet at vi skal hoppe over feltet a8, som er et hvitt felt. Kjør nå koden for å vise dette sjakkbrettet:"
   ]
  },
  {
   "cell_type": "code",
   "execution_count": null,
   "id": "f82b395c-65ca-41df-aa66-e68eaf756900",
   "metadata": {},
   "outputs": [],
   "source": [
    "brettB = Board(\"1P1P1P1P/P1P1P1P1/1P1P1P1P/P1P1P1P1/1P1P1P1P/P1P1P1P1/1P1P1P1P/P1P1P1P1\")\n",
    "brettB"
   ]
  },
  {
   "cell_type": "markdown",
   "id": "894ffa69-0097-4b6e-a254-1656eaa433ef",
   "metadata": {},
   "source": [
    "Anta i stedet at vi kun ønsker bønder på venstre og høyre kant, altså a-fila og h-fila. FEN-koden blir da\n",
    "\n",
    "`P6P/P6P/P6P/P6P/P6P/P6P/P6P/P6P`\n",
    "\n",
    "På hver rad hopper vi altså over de 6 midtre feltene. Kjør igjen koden:"
   ]
  },
  {
   "cell_type": "code",
   "execution_count": null,
   "id": "339f8e33-d3b5-4fd4-b03d-8361e7792eb7",
   "metadata": {},
   "outputs": [],
   "source": [
    "brettC = Board(\"P6P/P6P/P6P/P6P/P6P/P6P/P6P/P6P\")\n",
    "brettC"
   ]
  },
  {
   "cell_type": "markdown",
   "id": "e2838884-387a-4981-b3d0-d0a6b5d487d5",
   "metadata": {},
   "source": [
    "Dersom vi ønsker oss et tomt sjakkbrett, må vi hoppe over alle 8 felter på hver rad, altså blir FEN-koden:\n",
    "\n",
    "`8/8/8/8/8/8/8/8`\n",
    "\n",
    "Forsøk nå å leke deg med FEN-koden under og sjekk at brettet blir slik du ønsker. Husk de engelse brikkesymbolene - `PNBRQK` for hvit hest, springer, løper, tårn, dronning og konge. De små bokstavene `pnbrqk` brukes for svarte brikker. "
   ]
  },
  {
   "cell_type": "code",
   "execution_count": null,
   "id": "52bcfaac-d050-49bd-8b9c-2cdeca3b4d9d",
   "metadata": {},
   "outputs": [],
   "source": [
    "brettD = Board(\"8/8/8/8/8/8/8/8\")\n",
    "brettD"
   ]
  },
  {
   "cell_type": "markdown",
   "id": "d15e6b11-1d11-44ce-9f31-8bf187daa7e7",
   "metadata": {},
   "source": [
    "### Oversikt over kommandoer\n",
    "\n",
    "Verdier som du velger selv:\n",
    "\n",
    "1. Variabelnavn for sjakkbrett\n",
    "2. FEN-kode\n",
    "3. Felt: `A1`, `A2`, ...\n",
    "4. Brikketype: `PNBRQK`, `pnbrqk`, `None` for å fjerne brikke\n",
    "\n",
    "Kopier kommandoer herfra og erstatt tall med dine valgte verdier.\n",
    "\n",
    "|  Kommando |  Forklaring |\n",
    "|---|---|\n",
    "|  `1 = Board(None)` | Opprett nytt tomt sjakkbrett  |\n",
    "| `1 = Board(\"2\")`  |  Opprett sjakkbrett fra FEN-kode |\n",
    "|  `1.set_piece_at(3, 4)` |  På brett 1: sett brikke 4 på felt 3 |\n"
   ]
  },
  {
   "cell_type": "markdown",
   "id": "72a9ea66-5208-492b-ae77-504ea3b6c52f",
   "metadata": {},
   "source": [
    "## Oppgaver\n",
    "\n"
   ]
  },
  {
   "cell_type": "markdown",
   "id": "cf6b88ab-7ada-4637-a949-4c285c450dba",
   "metadata": {},
   "source": [
    "### 1. Angrepsstyrke\n",
    "\n",
    "I disse oppgavene skal ulike brikker plasseres på brettet slik at flest/færrest felter angripes. \n",
    "Dette kan for eksempel organiseres som en morsom konkurranse i klasserommet, og det er en tabell som kan fylles ut til slutt.\n",
    "\n",
    "Til disse oppgavene er det fint å kunne visualisere hvilke felter som angripes. Vi oppretter derfor en kommando for dette. Det er ikke meningen at du skal forstå denne koden, bare kjøre den:"
   ]
  },
  {
   "cell_type": "code",
   "execution_count": null,
   "id": "c48c5b4c-e80c-49ac-a0bb-2ebbcc2f835e",
   "metadata": {},
   "outputs": [],
   "source": [
    "from chess.svg import board as show_board\n",
    "def all_attacks(board: Board) -> SquareSet:\n",
    "    all_attacks = SquareSet([])\n",
    "    pieces = SquareSet([])\n",
    "    for i in range(63):\n",
    "        all_attacks = all_attacks.union(board.attacks(i))\n",
    "        if board.piece_at(i) is not None:\n",
    "            pieces.add(i)\n",
    "    all_attacks = all_attacks.difference(pieces)\n",
    "    return all_attacks\n",
    "\n",
    "def show_attacks(board: Board) -> None:\n",
    "    attacks = all_attacks(board)\n",
    "    number = len(attacks)\n",
    "    print(str(number) + \" av de tomme feltene angripes av brikkene! \\n\")\n",
    "    return show_board(board, squares=attacks, size=390)"
   ]
  },
  {
   "cell_type": "markdown",
   "id": "f2672ac0-3bf8-4ba4-b23c-ed77e4125076",
   "metadata": {},
   "source": [
    "La oss prøve den nye kommandoen `show_attacks()` på et brett med løper, dronning og konge:"
   ]
  },
  {
   "cell_type": "code",
   "execution_count": null,
   "id": "19c24149-fa07-45a1-ad91-181dc52f2153",
   "metadata": {},
   "outputs": [],
   "source": [
    "brettF = Board(None)\n",
    "brettF.set_piece_at(A1, Q)\n",
    "brettF.set_piece_at(B1, B)\n",
    "brettF.set_piece_at(C1, K)\n",
    "show_attacks(brettF)"
   ]
  },
  {
   "cell_type": "markdown",
   "id": "d5969efb-f837-4eea-8cc3-180895e68740",
   "metadata": {},
   "source": [
    "I parentesen til `show_attacks()` skal du altså skrive variabelnavnet til sjakkbrettet. Når programmet kjøres vises sjakkbrettet og et kryss for alle feltene som angripes. Forsøk gjerne å gå inn i koden og endre på plasseringen til brikkene. For å flytte dronningen endrer du linjen `brettF.set_piece_at(A1, Q)`, ved å erstatte `A1` med ønsket felt. \n",
    "\n",
    "Elevene kan gjerne oppfordres til å sette opp de aktuelle brikkene på et fysisk sjakkbrett først, slik at de kan argumentere intuitivt for hvor de bør stå. Deretter kan de sjekke forslagene sine i programmet. "
   ]
  },
  {
   "cell_type": "markdown",
   "id": "8b89579b-76da-4184-adcd-fcd1a1414bd5",
   "metadata": {},
   "source": [
    "#### En av hver brikke, størst dominans\n",
    "\n",
    "Kjør koden under, og endre på brikkenes plasseringer slik at de angriper **flest** mulig felter på brettet. Husk at hvit bonde kun angriper på skrå fremover."
   ]
  },
  {
   "cell_type": "code",
   "execution_count": null,
   "id": "ba59c889-dad2-491c-ba1c-caff257b863e",
   "metadata": {},
   "outputs": [],
   "source": [
    "brettG = Board(None)\n",
    "brettG.set_piece_at(A1, P)\n",
    "brettG.set_piece_at(B1, N)\n",
    "brettG.set_piece_at(C1, B)\n",
    "brettG.set_piece_at(D1, R)\n",
    "brettG.set_piece_at(E1, Q)\n",
    "brettG.set_piece_at(F1, K)\n",
    "show_attacks(brettG)"
   ]
  },
  {
   "cell_type": "markdown",
   "id": "6095c2da-08a9-4c9c-9a65-35b60c45942a",
   "metadata": {},
   "source": [
    "#### En av hver brikke, minst dominans \n",
    "\n",
    "Kjør koden under, og endre på brikkenes plasseringer slik at de angriper **færrest** mulig felter på brettet.  "
   ]
  },
  {
   "cell_type": "code",
   "execution_count": null,
   "id": "0bb084f0-4997-49e9-a358-c89785fc3fb1",
   "metadata": {},
   "outputs": [],
   "source": [
    "brettH = Board(None)\n",
    "brettH.set_piece_at(A1, P)\n",
    "brettH.set_piece_at(B1, N)\n",
    "brettH.set_piece_at(C1, B)\n",
    "brettH.set_piece_at(D1, R)\n",
    "brettH.set_piece_at(E1, Q)\n",
    "brettH.set_piece_at(F1, K)\n",
    "show_attacks(brettH)"
   ]
  },
  {
   "cell_type": "markdown",
   "id": "d3a22e2d-8895-4305-bf26-83f34b7c9752",
   "metadata": {},
   "source": [
    "#### Dominere brettet med færrest dronninger\n",
    "\n",
    "Kjør koden under. Legg på en ny dronning ved å kopiere linje 2 - husk å endre `E4` til et annet felt!\n",
    "\n",
    "Fortsett å legge på dronninger. Forsøk å dekke hele sjakkbrettet med så få dronninger som mulig. Hva er det minste antallet dronninger som trengs? "
   ]
  },
  {
   "cell_type": "code",
   "execution_count": null,
   "id": "f8568599-0c41-4beb-b084-05f6a4ecf621",
   "metadata": {},
   "outputs": [],
   "source": [
    "brettI = Board(None)\n",
    "brettI.set_piece_at(E4, Q)\n",
    "show_attacks(brettI)"
   ]
  },
  {
   "cell_type": "code",
   "execution_count": null,
   "id": "d2673959-77ba-40d3-8e1a-a391965f4456",
   "metadata": {},
   "outputs": [],
   "source": []
  },
  {
   "cell_type": "markdown",
   "id": "c26d4a76-2cea-4df9-bdf6-0ea7068b5003",
   "metadata": {},
   "source": [
    "#### Dominere brettet med færrest hester\n",
    "\n",
    "Kjør koden under, og legg til flere hester. Hva er det minste antallet hester som trengs for å dominere hele brettet? "
   ]
  },
  {
   "cell_type": "code",
   "execution_count": null,
   "id": "40001551-ddef-4fd7-8bda-09e5b5769489",
   "metadata": {},
   "outputs": [],
   "source": [
    "brettJ = Board(None)\n",
    "brettJ.set_piece_at(C6, N)\n",
    "show_attacks(brettJ)"
   ]
  },
  {
   "cell_type": "markdown",
   "id": "11781e48-d490-480a-aded-f1fd79f64173",
   "metadata": {},
   "source": [
    "#### Flest dronninger som ikke angriper hverandre\n",
    "\n",
    "Vi ønsker nå å plassere flest dronninger på brettet uten at noen av dem angriper hverandre.\n",
    "Da trenger vi en litt annen kommando, slik at kryssene på sjakkbrettet også kan settes oppå brikker. \n",
    "Vi oppretter kommandoen `show_all2()` til dette formålet. Kjør koden:"
   ]
  },
  {
   "cell_type": "code",
   "execution_count": null,
   "id": "d6cd0183-8ecc-4a15-87e5-34ce0bc501a7",
   "metadata": {},
   "outputs": [],
   "source": [
    "def all_attacks2(board: Board) -> SquareSet:\n",
    "    all_attacks = SquareSet([])\n",
    "    pieces = SquareSet([])\n",
    "    for i in range(63):\n",
    "        all_attacks = all_attacks.union(board.attacks(i))\n",
    "    return all_attacks\n",
    "\n",
    "def show_attacks2(board: Board) -> None:\n",
    "    attacks = all_attacks2(board)\n",
    "    number = len(attacks)\n",
    "    print(str(number) + \" av feltene angripes av brikkene! \\n\")\n",
    "    return show_board(board, squares=attacks, size=390)"
   ]
  },
  {
   "cell_type": "markdown",
   "id": "fdc12c32-a2ac-43b7-806e-f2d263de614c",
   "metadata": {},
   "source": [
    "Kjør nå koden under og legg merke til at de to dronningene angriper hverandre - det er kryss oppå dronningene. \n",
    "Endre plasseringen slik at de ikke angriper hverandre, altså at det ikke er kryss på noen brikker. \n",
    "Legg deretter på flere dronninger slik at ingen angriper hverandre.\n",
    "Hvor mange klarer du å legge på brettet på denne måten? "
   ]
  },
  {
   "cell_type": "code",
   "execution_count": null,
   "id": "e68cd67c-9ace-43c8-ad0d-ac62e02ff5c7",
   "metadata": {},
   "outputs": [],
   "source": [
    "brettK = Board(None)\n",
    "brettK.set_piece_at(A1, Q)\n",
    "brettK.set_piece_at(G7, Q)\n",
    "show_attacks2(brettK)"
   ]
  },
  {
   "cell_type": "markdown",
   "id": "5e2f1b11-eeef-4f85-badd-673e7005ea4c",
   "metadata": {},
   "source": [
    "#### Flest løpere som ikke angriper hverandre\n",
    "\n",
    "Hvor mange løpere klarer du å legge på brettet uten at noen angriper hverandre?\n",
    "Kjør koden under og legg på flere løpere!"
   ]
  },
  {
   "cell_type": "code",
   "execution_count": null,
   "id": "5a38c2a1-c16e-43d5-999e-d66d194039aa",
   "metadata": {},
   "outputs": [],
   "source": [
    "brettL = Board(None)\n",
    "brettL.set_piece_at(A1, B)\n",
    "show_attacks2(brettL)"
   ]
  },
  {
   "cell_type": "markdown",
   "id": "199ce2cf-9d7d-4c61-9536-1bb8179c6429",
   "metadata": {},
   "source": [
    "#### Oppsummering og ekstra spørsmål\n",
    "\n",
    "Skriv opp tabellene under på papir, og fyll ut tall. Cellene som er merket med X svarer til oppgavene som er gitt ovenfor. For å løse de andre oppgavene kan du bruke kodeblokken under denne teksten.\n",
    "Legg merke til at Min og Max betyr forskjellige ting i de to tabellene.\n",
    "_____\n",
    "\n",
    "| Brikker  | Min  | Max  |\n",
    "|---|---|---|\n",
    "|  En av hver type |  X | X  |\n",
    "|  Andre kombinasjoner? |   |   |\n",
    "\n",
    "* Min = færrest antall felter som kan angripes av brikkene\n",
    "* Max = flest antall felter som kan angripes av brikkene\n",
    "______\n",
    "\n",
    "| Brikketype  | Min  | Max  |\n",
    "|---|---|---|\n",
    "|  Hest |  X |   |\n",
    "|  Løper |   | X  |\n",
    "|  Tårn |   |   |\n",
    "| Dronnning  | X  | X  |\n",
    "| Konge  |   |   |\n",
    "\n",
    "* Min = minste antall brikker som trengs for å dominere brettet\n",
    "* Max = største antall brikker som kan settes på brettet slik at ingen brikker angriper hverandre\n",
    "\n",
    "_____\n",
    "Kodeblokk til hjelp. Husk å endre siste linje til `show_attacks2(brettM)` når du vil tillate at kryss settes oppå brikker."
   ]
  },
  {
   "cell_type": "code",
   "execution_count": null,
   "id": "9fdae9d4-ddf5-42a1-8a8d-17b08a05afb6",
   "metadata": {},
   "outputs": [],
   "source": [
    "brettM = Board(None)\n",
    "brettM.set_piece_at(A1, R)\n",
    "show_attacks(brettM) "
   ]
  },
  {
   "cell_type": "markdown",
   "id": "509df906-2d07-472f-a9d9-f4e899047cb9",
   "metadata": {},
   "source": [
    "### 2. Enkel sjakkcomputer\n",
    "\n",
    "Du har kanskje sett \"pila\" i sjakksendingene på NRK. Den vurderer stillingen på brettet og gir en poengsum. Den kan for eksempel vise 1.0 til hvit. Vi skriver dette som +1.0. Hvis det er 1.0 til svart, skriver vi -1.0. Det er kompliserte beregninger som ligger bak poengsummen. Vi skal lage en sjakkcomputer som gjør en veldig enkel beregning, nemlig å telle verdiene til brikkene, for hvit og for svart. Hvis hvit leder med en bonde, skal programmet vårt skrive ut +1. \n",
    "\n",
    "#### Introduksjon\n",
    "\n",
    "Husk at vi bruker variablene `A1`, `A2` og så videre for å referere til feltene på sjakkbrettet. Hva gjemmer seg bak disse variablene? Kjør koden under for å finne ut! Erstatt gjerne `A1` med andre felter og kjør på nytt (for eksempel `B1`, `C2` og så videre. "
   ]
  },
  {
   "cell_type": "code",
   "execution_count": null,
   "id": "58d7baac-6d28-4ce3-9356-4e75050f6ff7",
   "metadata": {},
   "outputs": [],
   "source": [
    "A1"
   ]
  },
  {
   "cell_type": "markdown",
   "id": "d56290ab-9e82-498b-9537-57001cc6346e",
   "metadata": {},
   "source": [
    "Nå har du oppdaget at variablene ikke er noe annet en tall! Du har kanskje også oppdaget hvordan feltene på sjakkbrettet er nummerert? Følgende figur viser nummereringen. \n",
    "\n",
    "Nå lager vi et brett som har en av hver brikketype. Kjør koden:"
   ]
  },
  {
   "cell_type": "code",
   "execution_count": null,
   "id": "d97f9e1b-db28-4b45-b691-d5f7096dc5f3",
   "metadata": {},
   "outputs": [],
   "source": [
    "brettN = Board(\"8/8/8/8/8/8/8/PNBRQK2\")\n",
    "brettN"
   ]
  },
  {
   "cell_type": "markdown",
   "id": "3933fae7-0e77-4b18-a81f-2023608137af",
   "metadata": {},
   "source": [
    "Det neste vi skal lære er kommandoene `piece_type_at()` og `color_at()`. Kjør koden: "
   ]
  },
  {
   "cell_type": "code",
   "execution_count": null,
   "id": "ad34a7f7-1da5-49a1-b991-9a77a82bd639",
   "metadata": {},
   "outputs": [],
   "source": [
    "brettN.piece_type_at(0), brettN.color_at(0)"
   ]
  },
  {
   "cell_type": "markdown",
   "id": "79cf463b-6935-4d09-9f4a-ab9d2ed87928",
   "metadata": {},
   "source": [
    "Dette krever litt forklaring! Kort fortalt spør vi programmet om hvilken brikke som er på feltet `a1`.\n",
    "* Begge kommandoene krever at vi først sier hvilket brett vi skal bruke. \n",
    "* I parentesene forteller vi hvilket felt vi ønsker å spørre om. Her kunne vi ha skrevet `A1`, men vi har nå lært at denne variabelen inneholder tallet `0`, og det er dermed det samme å skrive tallet direkte. \n",
    "* I den første kommandoen spør vi om brikketypen, og i den andre kommandoen spør vi om fargen på brikken. Det som skrives ut er litt kryptisk, men følgende tabeller oppklarer resultatet:\n",
    "\n",
    "| `piece_type_at()` | Brikke  |\n",
    "|---|---|\n",
    "|  `None` | Tomt felt  |\n",
    "|  `1` |  Bonde |\n",
    "|  `2` |  Hest  |\n",
    "|  `3` |  Løper  |\n",
    "|  `4` |  Tårn  |\n",
    "|  `5` |  Dronning  |\n",
    "|  `6` |  Konge  |\n",
    "\n",
    "\n",
    "| `color_at()` | Farge på brikke  |\n",
    "|---|---|\n",
    "|  `None` | Tomt felt  |\n",
    "|  `True` |  Hvit |\n",
    "|  `False` |  Svart  |\n",
    "\n",
    "For å telle opp verdien til brikkene på sjakkbrettet kan vi gå gjennom alle feltene. Hvordan gjør vi dette? Siden feltene er nummerert fra `0` til `63`, kan vi ta utgangspunkt i en `for`-løkke fra `0` til `63`. Kjør følgende kode: "
   ]
  },
  {
   "cell_type": "code",
   "execution_count": null,
   "id": "fbb605dc-6996-4ccb-9e14-7edb95691a0c",
   "metadata": {
    "tags": []
   },
   "outputs": [],
   "source": [
    "for i in range(0, 64):\n",
    "    print(\"Felt \", i, \" har brikke \", brettN.piece_type_at(i), brettN.color_at(i))"
   ]
  },
  {
   "cell_type": "markdown",
   "id": "afdceae5-caed-4483-a59c-59906b4eed6d",
   "metadata": {},
   "source": [
    "Sjekk at denne utskriften stemmer med sjakkbrettet vi lagde over! \n",
    "I blokken under kan du sette inn flere brikker på sjakkbrettet og se at utskriften stemmer etter det. \n",
    "Prøv gjerne å sette inn svarte brikker. "
   ]
  },
  {
   "cell_type": "code",
   "execution_count": null,
   "id": "5dbcec46-7c59-4884-b389-337fa1fd352b",
   "metadata": {
    "tags": []
   },
   "outputs": [],
   "source": [
    "brettN.set_piece_at(H1, q)\n",
    "for i in range(0, 64):\n",
    "    print(\"Felt \", i, \" har brikke \", brettN.piece_type_at(i), brettN.color_at(i))"
   ]
  },
  {
   "cell_type": "markdown",
   "id": "00d465c5-14f1-4321-b9f8-8fad2fdd73d6",
   "metadata": {},
   "source": [
    "Nå er vi faktisk klare til å lage en enkel sjakkcomputer. La oss ta utgangspunkt i en realistisk sjakkstilling: "
   ]
  },
  {
   "cell_type": "code",
   "execution_count": null,
   "id": "d6d6cf0c-03c4-4f8c-8451-ecfb629df6e4",
   "metadata": {},
   "outputs": [],
   "source": [
    "brettP = Board(\"2r5/1R5p/p3npk1/8/P7/4B1P1/4PP1P/5K2\")\n",
    "brettP"
   ]
  },
  {
   "cell_type": "markdown",
   "id": "e0bbcd7d-bf11-4f81-b6e7-cff7ab716f09",
   "metadata": {},
   "source": [
    "Vi regner nå ut poengsummen til denne stillingen, så vi vet hva det riktige resultatet skal være. Verdien av de ulike brikkene er angitt i høyre kolonne av tabellen:\n",
    "\n",
    "| `piece_type_at()` | Brikke  | Poeng |\n",
    "|---|---|---|\n",
    "|  `1` |  Bonde | 1 |\n",
    "|  `2` |  Hest  |3 |\n",
    "|  `3` |  Løper  |3|\n",
    "|  `4` |  Tårn  |5|\n",
    "|  `5` |  Dronning  |9|\n",
    "|  `6` |  Konge  |Telles ikke|\n",
    "\n",
    "Nå kan vi begynne å telle:\n",
    "\n",
    "Hvits poeng = 5x Bonde + 1x Tårn + 1x Løper = 5 + 5 + 3 = 13\n",
    "\n",
    "Svarts poeng = 3x Bonde + 1x Tårn + 1x Hest = 3 + 5 + 3 = 11\n",
    "\n",
    "Poengsum = Hvits poeng - Svarts poeng = 13 - 11 = +2\n",
    "\n",
    "Poengsummen er altså +2, som betyr at hvit leder med 2 poeng. \n",
    "\n",
    "#### Oppgave\n",
    "\n",
    "Lag et program som teller poengsummen på sjakkbrettet `brettP`. Her er noen tips:\n",
    "* For-løkke"
   ]
  }
 ],
 "metadata": {
  "kernelspec": {
   "display_name": "Python 3 (ipykernel)",
   "language": "python",
   "name": "python3"
  },
  "language_info": {
   "codemirror_mode": {
    "name": "ipython",
    "version": 3
   },
   "file_extension": ".py",
   "mimetype": "text/x-python",
   "name": "python",
   "nbconvert_exporter": "python",
   "pygments_lexer": "ipython3",
   "version": "3.9.8"
  },
  "toc-autonumbering": false,
  "toc-showmarkdowntxt": false
 },
 "nbformat": 4,
 "nbformat_minor": 5
}
